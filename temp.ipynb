{
 "cells": [
  {
   "cell_type": "code",
   "execution_count": null,
   "id": "07a48a53",
   "metadata": {},
   "outputs": [],
   "source": [
    "import re\n",
    "import json\n",
    "import os\n",
    "from PyPDF2 import PdfReader\n",
    "\n",
    "pdf_path = r'C:/Workspace/BTM_25Q3_GEN/_etc/rawdata/국어 지식 기반 생성(RAG) 참조 문서.pdf'\n",
    "output_dir = 'docs'\n",
    "os.makedirs(output_dir, exist_ok=True)\n",
    "\n",
    "# PDF에서 전체 텍스트 추출\n",
    "reader = PdfReader(pdf_path)\n",
    "text = \"\"\n",
    "for page in reader.pages:\n",
    "    text += page.extract_text() + \"/n\"\n",
    "\n",
    "# <> 단위로 제목과 본문 분리\n",
    "pattern = r'<([^<>]+)>(.*?)((?=<[^<>]+>)|$)'  # <>로 감싸진 제목과 그 뒤의 본문\n",
    "matches = re.findall(pattern, text, re.DOTALL)\n",
    "\n",
    "for match in matches:\n",
    "    title = match[0].strip()  # <> 내부 텍스트\n",
    "    content = match[1].strip()  # <> 뒤 본문\n",
    "    # 파일명, id 추출 (파일명-조항명 구조라면)\n",
    "    if '-' in title:\n",
    "        file_name, clause = map(str.strip, title.split('-', 1))\n",
    "    else:\n",
    "        file_name, clause = \"output\", title\n",
    "    # json 데이터 생성\n",
    "    data = {\n",
    "        \"id\": clause,\n",
    "        \"content\": content\n",
    "    }\n",
    "    # 파일 저장 (여러 조항이 한 파일에 들어갈 수 있음)\n",
    "    json_path = os.path.join(output_dir, f\"{file_name}.json\")\n",
    "    if os.path.exists(json_path):\n",
    "        with open(json_path, 'r', encoding='utf-8') as f:\n",
    "            arr = json.load(f)\n",
    "    else:\n",
    "        arr = []\n",
    "    arr.append(data)\n",
    "    with open(json_path, 'w', encoding='utf-8') as f:\n",
    "        json.dump(arr, f, ensure_ascii=False, indent=2)"
   ]
  },
  {
   "cell_type": "code",
   "execution_count": null,
   "id": "0da2dc50",
   "metadata": {},
   "outputs": [],
   "source": []
  }
 ],
 "metadata": {
  "kernelspec": {
   "display_name": "Python 3",
   "language": "python",
   "name": "python3"
  },
  "language_info": {
   "codemirror_mode": {
    "name": "ipython",
    "version": 3
   },
   "file_extension": ".py",
   "mimetype": "text/x-python",
   "name": "python",
   "nbconvert_exporter": "python",
   "pygments_lexer": "ipython3",
   "version": "3.13.5"
  }
 },
 "nbformat": 4,
 "nbformat_minor": 5
}
