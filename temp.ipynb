{
 "cells": [
  {
   "cell_type": "code",
   "execution_count": 1,
   "id": "b6a147c0",
   "metadata": {},
   "outputs": [
    {
     "name": "stdout",
     "output_type": "stream",
     "text": [
      "📄 predictions.json 로딩 중...\n",
      "📄 extracted_keywords.json 로딩 중...\n",
      "📊 총 498개의 predictions 데이터\n",
      "📊 총 498개의 keywords 데이터\n",
      "✅ 합쳐진 결과가 result/predictions_with_keywords.json에 저장되었습니다!\n",
      "\n",
      "📋 첫 번째 항목의 구조:\n",
      "{\n",
      "  \"id\": \"750\",\n",
      "  \"input\": {\n",
      "    \"question_type\": \"교정형\",\n",
      "    \"question\": \"다음 중 어문 규범에 부합하는 것을 선택하고, 그 이유를 설명하세요.\\n― 다시는 결혼하고 싶지 않아요, \\n― 다시는 결혼하고 싶지 않아요. \"\n",
      "  },\n",
      "  \"output\": {\n",
      "    \"answer\": \"\\\"다시는 결혼하고 싶지 않아요.\\\"가 옳다. 쉬프트(Shift)와 탭(Tab)을 이용한 공백의 사용은 표준어 사용에 적합하지 않으므로 사용하지 않는다.\",\n",
      "    \"keyword\": \"쉬프트, 탭, 표준어\"\n",
      "  }\n",
      "}\n"
     ]
    }
   ],
   "source": [
    "import json\n",
    "\n",
    "def merge_predictions_with_keywords():\n",
    "    \"\"\"predictions.json과 extracted_keywords.json을 합쳐서 새로운 구조로 만드는 함수\"\"\"\n",
    "    \n",
    "    # predictions.json 로드\n",
    "    print(\"📄 predictions.json 로딩 중...\")\n",
    "    with open(\"result/predictions.json\", \"r\", encoding=\"utf-8\") as f:\n",
    "        predictions = json.load(f)\n",
    "    \n",
    "    # extracted_keywords.json 로드\n",
    "    print(\"📄 extracted_keywords.json 로딩 중...\")\n",
    "    with open(\"result/extracted_keywords.json\", \"r\", encoding=\"utf-8\") as f:\n",
    "        keywords_data = json.load(f)\n",
    "    \n",
    "    # 키워드 데이터를 id를 키로 하는 딕셔너리로 변환\n",
    "    keywords_dict = {}\n",
    "    for item in keywords_data:\n",
    "        keywords_dict[item[\"id\"]] = item[\"keywords\"]\n",
    "    \n",
    "    print(f\"📊 총 {len(predictions)}개의 predictions 데이터\")\n",
    "    print(f\"📊 총 {len(keywords_dict)}개의 keywords 데이터\")\n",
    "    \n",
    "    # 합친 결과 생성\n",
    "    merged_results = []\n",
    "    \n",
    "    for item in predictions:\n",
    "        item_id = item[\"id\"]\n",
    "        \n",
    "        # 기존 구조 유지하면서 output에 keyword 추가\n",
    "        merged_item = {\n",
    "            \"id\": item_id,\n",
    "            \"input\": item[\"input\"],\n",
    "            \"output\": {\n",
    "                \"answer\": item[\"output\"][\"answer\"],\n",
    "                \"keyword\": \", \".join(keywords_dict.get(item_id, [])) if item_id in keywords_dict else \"\"\n",
    "            }\n",
    "        }\n",
    "        \n",
    "        merged_results.append(merged_item)\n",
    "    \n",
    "    # 결과 저장\n",
    "    output_file = \"result/predictions_with_keywords.json\"\n",
    "    with open(output_file, \"w\", encoding=\"utf-8\") as f:\n",
    "        json.dump(merged_results, f, ensure_ascii=False, indent=2)\n",
    "    \n",
    "    print(f\"✅ 합쳐진 결과가 {output_file}에 저장되었습니다!\")\n",
    "    \n",
    "    # 첫 번째 항목 구조 확인\n",
    "    if merged_results:\n",
    "        print(\"\\n📋 첫 번째 항목의 구조:\")\n",
    "        print(json.dumps(merged_results[0], ensure_ascii=False, indent=2))\n",
    "    \n",
    "    return merged_results\n",
    "\n",
    "# 실행\n",
    "merged_data = merge_predictions_with_keywords()"
   ]
  }
 ],
 "metadata": {
  "kernelspec": {
   "display_name": "Python 3",
   "language": "python",
   "name": "python3"
  },
  "language_info": {
   "codemirror_mode": {
    "name": "ipython",
    "version": 3
   },
   "file_extension": ".py",
   "mimetype": "text/x-python",
   "name": "python",
   "nbconvert_exporter": "python",
   "pygments_lexer": "ipython3",
   "version": "3.12.7"
  }
 },
 "nbformat": 4,
 "nbformat_minor": 5
}
